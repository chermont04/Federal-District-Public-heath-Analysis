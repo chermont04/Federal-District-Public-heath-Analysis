{
  "nbformat": 4,
  "nbformat_minor": 0,
  "metadata": {
    "colab": {
      "name": "Analise de internacoes Brasil.ipynb",
      "provenance": [],
      "collapsed_sections": [],
      "toc_visible": true,
      "include_colab_link": true
    },
    "kernelspec": {
      "name": "python3",
      "display_name": "Python 3"
    },
    "language_info": {
      "name": "python"
    }
  },
  "cells": [
    {
      "cell_type": "markdown",
      "metadata": {
        "id": "view-in-github",
        "colab_type": "text"
      },
      "source": [
        "<a href=\"https://colab.research.google.com/github/chermont04/Federal-District-Public-heath-Analysis/blob/main/notebooks/Analise_de_internacoes_Brasil.ipynb\" target=\"_parent\"><img src=\"https://colab.research.google.com/assets/colab-badge.svg\" alt=\"Open In Colab\"/></a>"
      ]
    },
    {
      "cell_type": "markdown",
      "source": [
        "Notebook para análise de internações do Brasil do Datasus\n",
        "\n",
        "\n"
      ],
      "metadata": {
        "id": "RdxjGS0GxrIn"
      }
    },
    {
      "cell_type": "markdown",
      "source": [
        "# 1.0 Introdução"
      ],
      "metadata": {
        "id": "6lJFyxWYBO0T"
      }
    },
    {
      "cell_type": "markdown",
      "source": [
        "# 2.0 Importação das Bibliotecas"
      ],
      "metadata": {
        "id": "jyHh7cVtBsYW"
      }
    },
    {
      "cell_type": "code",
      "source": [
        "import pandas as pd\n",
        "import matplotlib as plt\n",
        "import seaborn as sns"
      ],
      "metadata": {
        "id": "o7pzmQbQrEKn"
      },
      "execution_count": null,
      "outputs": []
    },
    {
      "cell_type": "markdown",
      "source": [
        "# 3.0 Carregamento e análise exploratória dos dados"
      ],
      "metadata": {
        "id": "pDS3FFHbB_6w"
      }
    },
    {
      "cell_type": "code",
      "source": [
        ""
      ],
      "metadata": {
        "id": "A4Z3625BsI1c"
      },
      "execution_count": null,
      "outputs": []
    },
    {
      "cell_type": "markdown",
      "source": [
        "# 4.0 Limpeza e tratamento dos dados dos dados"
      ],
      "metadata": {
        "id": "AVKlbnmXB_4P"
      }
    },
    {
      "cell_type": "markdown",
      "source": [
        "# 5.0 Hipoteses"
      ],
      "metadata": {
        "id": "4JeAgI6QB_1v"
      }
    },
    {
      "cell_type": "markdown",
      "source": [
        "# 6.0 Análises"
      ],
      "metadata": {
        "id": "dmXzYlmiB_zH"
      }
    },
    {
      "cell_type": "markdown",
      "source": [
        "# 7.0 Conclusões"
      ],
      "metadata": {
        "id": "TR33POM6B_wX"
      }
    },
    {
      "cell_type": "markdown",
      "source": [
        "# 8.0 Considerações Finais"
      ],
      "metadata": {
        "id": "F55b3E3PB_t_"
      }
    },
    {
      "cell_type": "markdown",
      "source": [
        "# 9.0 Referencias"
      ],
      "metadata": {
        "id": "8U44NL3CB_rn"
      }
    },
    {
      "cell_type": "markdown",
      "source": [
        ""
      ],
      "metadata": {
        "id": "sQ1qrAYPB_j3"
      }
    },
    {
      "cell_type": "code",
      "execution_count": null,
      "metadata": {
        "id": "K4O6oMD_xMZK"
      },
      "outputs": [],
      "source": [
        ""
      ]
    },
    {
      "cell_type": "code",
      "source": [
        ""
      ],
      "metadata": {
        "id": "J3zmt8kVxpCN"
      },
      "execution_count": null,
      "outputs": []
    }
  ]
}